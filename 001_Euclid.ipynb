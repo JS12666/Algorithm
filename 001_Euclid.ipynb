{
 "cells": [
  {
   "cell_type": "code",
   "execution_count": 8,
   "id": "e29cf4c9-02a7-45b4-9821-127c1b12b1c2",
   "metadata": {},
   "outputs": [
    {
     "name": "stdin",
     "output_type": "stream",
     "text": [
      "x :  30\n",
      "y :  20\n"
     ]
    },
    {
     "name": "stdout",
     "output_type": "stream",
     "text": [
      "GCD = 10\n"
     ]
    }
   ],
   "source": [
    "x = int(input(\"x : \"))\n",
    "y = int(input(\"y : \"))\n",
    "\n",
    "def Euclid(x , y):\n",
    "    if(y==0):\n",
    "        return x\n",
    "    else:\n",
    "        return Euclid(y, x % y)\n",
    "\n",
    "print(\"GCD = \" + str(Euclid(x, y)))"
   ]
  },
  {
   "cell_type": "code",
   "execution_count": null,
   "id": "421d60cd-9af7-45cb-bee4-800a72df9fe7",
   "metadata": {},
   "outputs": [],
   "source": []
  }
 ],
 "metadata": {
  "kernelspec": {
   "display_name": "Python 3 (ipykernel)",
   "language": "python",
   "name": "python3"
  },
  "language_info": {
   "codemirror_mode": {
    "name": "ipython",
    "version": 3
   },
   "file_extension": ".py",
   "mimetype": "text/x-python",
   "name": "python",
   "nbconvert_exporter": "python",
   "pygments_lexer": "ipython3",
   "version": "3.11.7"
  }
 },
 "nbformat": 4,
 "nbformat_minor": 5
}
