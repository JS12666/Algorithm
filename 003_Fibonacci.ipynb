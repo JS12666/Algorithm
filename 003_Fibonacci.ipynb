{
 "cells": [
  {
   "cell_type": "code",
   "execution_count": 1,
   "id": "65d294bb-a07b-40e6-b73d-3e261d9204fa",
   "metadata": {},
   "outputs": [],
   "source": [
    "def loop_fibo(n):\n",
    "    a = [0] * (n + 1)\n",
    "\n",
    "    print(\"Loop Fibonacci:\")\n",
    "\n",
    "    for i in range(1, n + 1):\n",
    "        if i == 1 or i == 2:\n",
    "            a[i] = 1\n",
    "        else:\n",
    "            a[i] = a[i - 2] + a[i - 1]\n",
    "\n",
    "    for i in range(1, n + 1):\n",
    "        print(a[i])\n",
    "\n",
    "def rec_fibo(n):\n",
    "    if n == 1 or n == 2:\n",
    "        return 1\n",
    "    else:\n",
    "        return rec_fibo(n - 1) + rec_fibo(n - 2)"
   ]
  },
  {
   "cell_type": "code",
   "execution_count": 6,
   "id": "49a74a00-3ea4-44ae-a7a9-add28da813be",
   "metadata": {},
   "outputs": [
    {
     "name": "stdin",
     "output_type": "stream",
     "text": [
      "x :  20\n"
     ]
    },
    {
     "name": "stdout",
     "output_type": "stream",
     "text": [
      "Recurisve Fibonacci:\n",
      "1\n",
      "1\n",
      "2\n",
      "3\n",
      "5\n",
      "8\n",
      "13\n",
      "21\n",
      "34\n",
      "55\n",
      "89\n",
      "144\n",
      "233\n",
      "377\n",
      "610\n",
      "987\n",
      "1597\n",
      "2584\n",
      "4181\n",
      "6765\n"
     ]
    }
   ],
   "source": [
    "#재귀함수 사용\n",
    "x = int(input(\"x : \"))\n",
    "\n",
    "print(\"Recurisve Fibonacci:\")\n",
    "for i in range(1, x + 1):\n",
    "    print(rec_fibo(i))"
   ]
  },
  {
   "cell_type": "code",
   "execution_count": 5,
   "id": "8ee274d8-7975-44fd-9fc9-762445f4656c",
   "metadata": {},
   "outputs": [
    {
     "name": "stdin",
     "output_type": "stream",
     "text": [
      "x :  20\n"
     ]
    },
    {
     "name": "stdout",
     "output_type": "stream",
     "text": [
      "Loop Fibonacci:\n",
      "1\n",
      "1\n",
      "2\n",
      "3\n",
      "5\n",
      "8\n",
      "13\n",
      "21\n",
      "34\n",
      "55\n",
      "89\n",
      "144\n",
      "233\n",
      "377\n",
      "610\n",
      "987\n",
      "1597\n",
      "2584\n",
      "4181\n",
      "6765\n"
     ]
    }
   ],
   "source": [
    "x = int(input(\"x : \"))\n",
    "\n",
    "loop_fibo(x)"
   ]
  },
  {
   "cell_type": "code",
   "execution_count": null,
   "id": "2aadeee2-bafd-4adc-a422-b112a667fdfb",
   "metadata": {},
   "outputs": [],
   "source": []
  }
 ],
 "metadata": {
  "kernelspec": {
   "display_name": "Python 3 (ipykernel)",
   "language": "python",
   "name": "python3"
  },
  "language_info": {
   "codemirror_mode": {
    "name": "ipython",
    "version": 3
   },
   "file_extension": ".py",
   "mimetype": "text/x-python",
   "name": "python",
   "nbconvert_exporter": "python",
   "pygments_lexer": "ipython3",
   "version": "3.11.7"
  }
 },
 "nbformat": 4,
 "nbformat_minor": 5
}
