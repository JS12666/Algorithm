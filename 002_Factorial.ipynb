{
 "cells": [
  {
   "cell_type": "code",
   "execution_count": 2,
   "id": "b503ab91-4ec1-4898-805b-8e3d46d4949d",
   "metadata": {},
   "outputs": [],
   "source": [
    "import time\n",
    "\n",
    "#반복문\n",
    "def Factorial(n):\n",
    "    f = 1\n",
    "    for i in range(2, n + 1):\n",
    "        f *= i\n",
    "    return f\n",
    "\n",
    "#재귀함수\n",
    "def rFactorial(n):\n",
    "    if(n==1):\n",
    "        return 1\n",
    "    else:\n",
    "        return rFactorial(n-1)*n"
   ]
  },
  {
   "cell_type": "code",
   "execution_count": 10,
   "id": "8d5e2e57-0ca4-402e-844e-9409435f3291",
   "metadata": {
    "scrolled": true
   },
   "outputs": [
    {
     "name": "stdin",
     "output_type": "stream",
     "text": [
      "x :  60\n"
     ]
    },
    {
     "name": "stdout",
     "output_type": "stream",
     "text": [
      "recursive = 8320987112741390144276341183223364380754172606361245952449277696409600000000000000\n",
      "115 Ticks, 0.11540000014065299 ms\n"
     ]
    }
   ],
   "source": [
    "#재귀함수 사용\n",
    "x = int(input(\"x : \"))\n",
    "\n",
    "#고정밀 시간 측정\n",
    "#일반 시간 측정은 time.time()사용\n",
    "start_time = time.perf_counter()\n",
    "\n",
    "rfact = rFactorial(x)\n",
    "print(\"recursive = \" + str(rfact))\n",
    "\n",
    "end_time = time.perf_counter()\n",
    "\n",
    "#시간 계산\n",
    "elapsed_time = end_time - start_time\n",
    "elasped_ticks = int(elapsed_time * 1e6)\n",
    "\n",
    "result = f\"{elasped_ticks} Ticks, {elapsed_time * 1000} ms\"\n",
    "print(result)"
   ]
  },
  {
   "cell_type": "code",
   "execution_count": 9,
   "id": "96544b4f-a5d5-40cc-a4df-4ef981dadd37",
   "metadata": {},
   "outputs": [
    {
     "name": "stdin",
     "output_type": "stream",
     "text": [
      "x :  60\n"
     ]
    },
    {
     "name": "stdout",
     "output_type": "stream",
     "text": [
      "loop = 8320987112741390144276341183223364380754172606361245952449277696409600000000000000\n",
      "113 Ticks, 0.11390000008759671 ms\n"
     ]
    }
   ],
   "source": [
    "#반복문 사용\n",
    "x = int(input(\"x : \"))\n",
    "\n",
    "start_time = time.perf_counter()\n",
    "\n",
    "fact = Factorial(x)\n",
    "print(\"loop = \" + str(fact))\n",
    "\n",
    "end_time = time.perf_counter()\n",
    "\n",
    "elapsed_time = end_time - start_time\n",
    "elasped_ticks = int(elapsed_time * 1e6)\n",
    "\n",
    "result = f\"{elasped_ticks} Ticks, {elapsed_time * 1000} ms\"\n",
    "print(result)"
   ]
  }
 ],
 "metadata": {
  "kernelspec": {
   "display_name": "Python 3 (ipykernel)",
   "language": "python",
   "name": "python3"
  },
  "language_info": {
   "codemirror_mode": {
    "name": "ipython",
    "version": 3
   },
   "file_extension": ".py",
   "mimetype": "text/x-python",
   "name": "python",
   "nbconvert_exporter": "python",
   "pygments_lexer": "ipython3",
   "version": "3.11.7"
  }
 },
 "nbformat": 4,
 "nbformat_minor": 5
}
