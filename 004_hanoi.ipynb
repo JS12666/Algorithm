{
 "cells": [
  {
   "cell_type": "code",
   "execution_count": 1,
   "id": "1e61f0fd-79ab-446e-abe3-75ea2445bc8b",
   "metadata": {},
   "outputs": [],
   "source": [
    "def Hanoi(n , fro, by, to):\n",
    "    if(n==1):\n",
    "        print(f\"Move {fro} -> {to}\")\n",
    "    else:\n",
    "        Hanoi(n - 1, fro, to, by)\n",
    "        print(f\"Move {fro} -> {to}\")\n",
    "        Hanoi(n - 1, by, fro, to)"
   ]
  },
  {
   "cell_type": "code",
   "execution_count": 2,
   "id": "742ca6b9-8e1d-4428-9650-d78423e96315",
   "metadata": {},
   "outputs": [
    {
     "name": "stdout",
     "output_type": "stream",
     "text": [
      "Move a -> b\n",
      "Move a -> c\n",
      "Move b -> c\n",
      "Move a -> b\n",
      "Move c -> a\n",
      "Move c -> b\n",
      "Move a -> b\n",
      "Move a -> c\n",
      "Move b -> c\n",
      "Move b -> a\n",
      "Move c -> a\n",
      "Move b -> c\n",
      "Move a -> b\n",
      "Move a -> c\n",
      "Move b -> c\n"
     ]
    }
   ],
   "source": [
    "Hanoi(4, 'a', 'b', 'c')"
   ]
  },
  {
   "cell_type": "code",
   "execution_count": null,
   "id": "1427a3dc-1a10-4644-90e9-9b44ca317655",
   "metadata": {},
   "outputs": [],
   "source": []
  }
 ],
 "metadata": {
  "kernelspec": {
   "display_name": "Python 3 (ipykernel)",
   "language": "python",
   "name": "python3"
  },
  "language_info": {
   "codemirror_mode": {
    "name": "ipython",
    "version": 3
   },
   "file_extension": ".py",
   "mimetype": "text/x-python",
   "name": "python",
   "nbconvert_exporter": "python",
   "pygments_lexer": "ipython3",
   "version": "3.11.7"
  }
 },
 "nbformat": 4,
 "nbformat_minor": 5
}
